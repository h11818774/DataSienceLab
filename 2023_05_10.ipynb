{
 "cells": [
  {
   "cell_type": "markdown",
   "metadata": {},
   "source": [
    "# ZEB Ansatz Tobi 10.05.2023\n",
    "Referenzen:\n",
    "- https://towardsdatascience.com/pipeline-columntransformer-and-featureunion-explained-f5491f815f\n",
    "- https://towardsdatascience.com/from-ml-model-to-ml-pipeline-9f95c32c6512\n"
   ]
  },
  {
   "cell_type": "code",
   "execution_count": 6,
   "metadata": {},
   "outputs": [],
   "source": [
    "# Modules and packages\n",
    "import numpy as np\n",
    "import pandas as pd\n"
   ]
  },
  {
   "cell_type": "code",
   "execution_count": 7,
   "metadata": {},
   "outputs": [],
   "source": [
    "# Machine learning pipeline\n",
    "from sklearn.model_selection import train_test_split\n",
    "from sklearn.base import BaseEstimator, TransformerMixin\n",
    "from sklearn.impute import SimpleImputer\n",
    "from sklearn.preprocessing import OneHotEncoder, MinMaxScaler\n",
    "from sklearn.compose import ColumnTransformer\n",
    "from sklearn.pipeline import Pipeline\n",
    "from sklearn.linear_model import LogisticRegression\n",
    "from sklearn.metrics import roc_auc_score\n",
    "from sklearn import set_config\n",
    "set_config(display=\"diagram\")"
   ]
  },
  {
   "cell_type": "code",
   "execution_count": 8,
   "metadata": {},
   "outputs": [],
   "source": [
    "df = pd.read_excel('data/dataset_2023.xlsx')\n",
    "df = df.drop('Unnamed: 0', axis=1)"
   ]
  },
  {
   "cell_type": "code",
   "execution_count": 9,
   "metadata": {},
   "outputs": [
    {
     "data": {
      "text/plain": [
       "(19058, 12)"
      ]
     },
     "execution_count": 9,
     "metadata": {},
     "output_type": "execute_result"
    }
   ],
   "source": [
    "df.shape"
   ]
  },
  {
   "cell_type": "code",
   "execution_count": 10,
   "metadata": {},
   "outputs": [
    {
     "data": {
      "text/html": [
       "<div>\n",
       "<style scoped>\n",
       "    .dataframe tbody tr th:only-of-type {\n",
       "        vertical-align: middle;\n",
       "    }\n",
       "\n",
       "    .dataframe tbody tr th {\n",
       "        vertical-align: top;\n",
       "    }\n",
       "\n",
       "    .dataframe thead th {\n",
       "        text-align: right;\n",
       "    }\n",
       "</style>\n",
       "<table border=\"1\" class=\"dataframe\">\n",
       "  <thead>\n",
       "    <tr style=\"text-align: right;\">\n",
       "      <th></th>\n",
       "      <th>brand_name</th>\n",
       "      <th>model_name</th>\n",
       "      <th>milage</th>\n",
       "      <th>first_registration</th>\n",
       "      <th>duration</th>\n",
       "      <th>gear</th>\n",
       "      <th>monthly_fee</th>\n",
       "      <th>emission_value</th>\n",
       "      <th>consumption</th>\n",
       "      <th>horsepower</th>\n",
       "      <th>kilowatts</th>\n",
       "      <th>fuel_type</th>\n",
       "    </tr>\n",
       "  </thead>\n",
       "  <tbody>\n",
       "    <tr>\n",
       "      <th>0</th>\n",
       "      <td>Skoda</td>\n",
       "      <td>Octavia ŠKODA Combi Style TDI DSG</td>\n",
       "      <td>201 km</td>\n",
       "      <td>03/2023</td>\n",
       "      <td>48 Monat (anpassbar)</td>\n",
       "      <td>Automatik</td>\n",
       "      <td>574,01 €</td>\n",
       "      <td>119 g/km</td>\n",
       "      <td>5,0 l/100 km</td>\n",
       "      <td>150 PS</td>\n",
       "      <td>110 kW</td>\n",
       "      <td>Diesel</td>\n",
       "    </tr>\n",
       "    <tr>\n",
       "      <th>1</th>\n",
       "      <td>Volkswagen</td>\n",
       "      <td>T-Cross VW Life TSI</td>\n",
       "      <td>201 km</td>\n",
       "      <td>03/2023</td>\n",
       "      <td>48 Monat (anpassbar)</td>\n",
       "      <td>Manuelle Schaltung</td>\n",
       "      <td>382,58 €</td>\n",
       "      <td>131 g/km</td>\n",
       "      <td>6,0 l/100 km</td>\n",
       "      <td>95 PS</td>\n",
       "      <td>70 kW</td>\n",
       "      <td>Benzin</td>\n",
       "    </tr>\n",
       "    <tr>\n",
       "      <th>2</th>\n",
       "      <td>Seat</td>\n",
       "      <td>Ibiza Austria Edition</td>\n",
       "      <td>15.000 km</td>\n",
       "      <td>10/2022</td>\n",
       "      <td>48 Monat (anpassbar)</td>\n",
       "      <td>Manuelle Schaltung</td>\n",
       "      <td>239,62 €</td>\n",
       "      <td>120 g/km</td>\n",
       "      <td>5,0 l/100 km</td>\n",
       "      <td>80 PS</td>\n",
       "      <td>59 kW</td>\n",
       "      <td>Benzin</td>\n",
       "    </tr>\n",
       "    <tr>\n",
       "      <th>3</th>\n",
       "      <td>Volkswagen</td>\n",
       "      <td>Polo VW</td>\n",
       "      <td>1 km</td>\n",
       "      <td>01/2023</td>\n",
       "      <td>48 Monat (anpassbar)</td>\n",
       "      <td>Manuelle Schaltung</td>\n",
       "      <td>309,11 €</td>\n",
       "      <td>127 g/km</td>\n",
       "      <td>6,0 l/100 km</td>\n",
       "      <td>80 PS</td>\n",
       "      <td>59 kW</td>\n",
       "      <td>Benzin</td>\n",
       "    </tr>\n",
       "    <tr>\n",
       "      <th>4</th>\n",
       "      <td>Audi</td>\n",
       "      <td>A4 Avant 40 TDI quattro S line</td>\n",
       "      <td>105.301 km</td>\n",
       "      <td>12/2019</td>\n",
       "      <td>48 Monat (anpassbar)</td>\n",
       "      <td>Automatik</td>\n",
       "      <td>587,75 €</td>\n",
       "      <td>138 g/km</td>\n",
       "      <td>5,0 l/100 km</td>\n",
       "      <td>190 PS</td>\n",
       "      <td>140 kW</td>\n",
       "      <td>Diesel</td>\n",
       "    </tr>\n",
       "  </tbody>\n",
       "</table>\n",
       "</div>"
      ],
      "text/plain": [
       "   brand_name                         model_name      milage  \\\n",
       "0       Skoda  Octavia ŠKODA Combi Style TDI DSG      201 km   \n",
       "1  Volkswagen                T-Cross VW Life TSI      201 km   \n",
       "2        Seat              Ibiza Austria Edition   15.000 km   \n",
       "3  Volkswagen                            Polo VW        1 km   \n",
       "4        Audi     A4 Avant 40 TDI quattro S line  105.301 km   \n",
       "\n",
       "  first_registration              duration                gear monthly_fee  \\\n",
       "0            03/2023  48 Monat (anpassbar)           Automatik    574,01 €   \n",
       "1            03/2023  48 Monat (anpassbar)  Manuelle Schaltung    382,58 €   \n",
       "2            10/2022  48 Monat (anpassbar)  Manuelle Schaltung    239,62 €   \n",
       "3            01/2023  48 Monat (anpassbar)  Manuelle Schaltung    309,11 €   \n",
       "4            12/2019  48 Monat (anpassbar)           Automatik    587,75 €   \n",
       "\n",
       "  emission_value   consumption horsepower kilowatts fuel_type  \n",
       "0       119 g/km  5,0 l/100 km     150 PS    110 kW    Diesel  \n",
       "1       131 g/km  6,0 l/100 km      95 PS     70 kW    Benzin  \n",
       "2       120 g/km  5,0 l/100 km      80 PS     59 kW    Benzin  \n",
       "3       127 g/km  6,0 l/100 km      80 PS     59 kW    Benzin  \n",
       "4       138 g/km  5,0 l/100 km     190 PS    140 kW    Diesel  "
      ]
     },
     "execution_count": 10,
     "metadata": {},
     "output_type": "execute_result"
    }
   ],
   "source": [
    "df.head()"
   ]
  },
  {
   "cell_type": "code",
   "execution_count": 11,
   "metadata": {},
   "outputs": [
    {
     "ename": "TypeError",
     "evalue": "'method' object is not subscriptable",
     "output_type": "error",
     "traceback": [
      "\u001b[0;31m---------------------------------------------------------------------------\u001b[0m",
      "\u001b[0;31mTypeError\u001b[0m                                 Traceback (most recent call last)",
      "\u001b[0;32m/var/folders/3b/48y4zyts7j33x2t7t7dq18w40000gn/T/ipykernel_35870/196007050.py\u001b[0m in \u001b[0;36m<module>\u001b[0;34m\u001b[0m\n\u001b[1;32m      1\u001b[0m \u001b[0;31m# 1. Partition data\u001b[0m\u001b[0;34m\u001b[0m\u001b[0;34m\u001b[0m\u001b[0m\n\u001b[1;32m      2\u001b[0m \u001b[0mseed\u001b[0m \u001b[0;34m=\u001b[0m \u001b[0;36m123\u001b[0m\u001b[0;34m\u001b[0m\u001b[0;34m\u001b[0m\u001b[0m\n\u001b[0;32m----> 3\u001b[0;31m X_train, X_test, y_train, y_test = train_test_split(df.drop['monthly_fee'], \n\u001b[0m\u001b[1;32m      4\u001b[0m                                                     \u001b[0mdf\u001b[0m\u001b[0;34m[\u001b[0m\u001b[0;34m'monthly_fee'\u001b[0m\u001b[0;34m]\u001b[0m\u001b[0;34m,\u001b[0m\u001b[0;34m\u001b[0m\u001b[0;34m\u001b[0m\u001b[0m\n\u001b[1;32m      5\u001b[0m                                                     \u001b[0mtest_size\u001b[0m\u001b[0;34m=\u001b[0m\u001b[0;36m.2\u001b[0m\u001b[0;34m,\u001b[0m\u001b[0;34m\u001b[0m\u001b[0;34m\u001b[0m\u001b[0m\n",
      "\u001b[0;31mTypeError\u001b[0m: 'method' object is not subscriptable"
     ]
    }
   ],
   "source": [
    "# 1. Partition data\n",
    "seed = 123\n",
    "X_train, X_test, y_train, y_test = train_test_split(df.drop('monthly_fee'), \n",
    "                                                    df['monthly_fee'], \n",
    "                                                    test_size=.2, \n",
    "                                                    random_state=seed)"
   ]
  },
  {
   "cell_type": "code",
   "execution_count": null,
   "metadata": {},
   "outputs": [],
   "source": []
  }
 ],
 "metadata": {
  "kernelspec": {
   "display_name": "Python 3.9.7 ('base')",
   "language": "python",
   "name": "python3"
  },
  "language_info": {
   "codemirror_mode": {
    "name": "ipython",
    "version": 3
   },
   "file_extension": ".py",
   "mimetype": "text/x-python",
   "name": "python",
   "nbconvert_exporter": "python",
   "pygments_lexer": "ipython3",
   "version": "3.9.7"
  },
  "orig_nbformat": 4,
  "vscode": {
   "interpreter": {
    "hash": "dfcaecdf05f5dee60e4059109da00163655215d8c7e487a25e7e0f2fbe9c6bb5"
   }
  }
 },
 "nbformat": 4,
 "nbformat_minor": 2
}
