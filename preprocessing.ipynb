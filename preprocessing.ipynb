{
 "cells": [
  {
   "attachments": {},
   "cell_type": "markdown",
   "metadata": {},
   "source": [
    "# DS LAB"
   ]
  },
  {
   "attachments": {},
   "cell_type": "markdown",
   "metadata": {},
   "source": [
    "#### Load CSV"
   ]
  },
  {
   "cell_type": "code",
   "execution_count": 134,
   "metadata": {},
   "outputs": [],
   "source": [
    "import pandas as pd\n",
    "\n",
    "df = pd.read_csv(\"./data/leasing_auto_2023.csv\")"
   ]
  },
  {
   "cell_type": "code",
   "execution_count": 135,
   "metadata": {},
   "outputs": [
    {
     "data": {
      "text/plain": [
       "Unnamed: 0              0\n",
       "brand                   0\n",
       "mileage                 0\n",
       "deposit                 0\n",
       "number_of_miles         0\n",
       "first_registration      0\n",
       "duration                0\n",
       "monthly_fee             0\n",
       "horsepower              0\n",
       "kilowatts               0\n",
       "fuel_type               0\n",
       "emissions             704\n",
       "consumption           704\n",
       "dtype: int64"
      ]
     },
     "execution_count": 135,
     "metadata": {},
     "output_type": "execute_result"
    }
   ],
   "source": [
    "df.head()\n",
    "df.isnull().sum()"
   ]
  },
  {
   "cell_type": "code",
   "execution_count": 116,
   "metadata": {},
   "outputs": [
    {
     "data": {
      "text/plain": [
       "Unnamed: 0              0\n",
       "brand                   0\n",
       "mileage                 0\n",
       "deposit                 0\n",
       "number_of_miles         0\n",
       "first_registration      0\n",
       "duration                0\n",
       "monthly_fee             0\n",
       "horsepower              0\n",
       "kilowatts               0\n",
       "fuel_type               0\n",
       "emissions             704\n",
       "consumption           704\n",
       "dtype: int64"
      ]
     },
     "execution_count": 116,
     "metadata": {},
     "output_type": "execute_result"
    }
   ],
   "source": [
    "df.isnull().sum()"
   ]
  },
  {
   "attachments": {},
   "cell_type": "markdown",
   "metadata": {},
   "source": [
    "#### Functions"
   ]
  },
  {
   "attachments": {},
   "cell_type": "markdown",
   "metadata": {},
   "source": [
    "##### Preprocessing"
   ]
  },
  {
   "cell_type": "code",
   "execution_count": 119,
   "metadata": {},
   "outputs": [
    {
     "data": {
      "text/html": [
       "<div>\n",
       "<style scoped>\n",
       "    .dataframe tbody tr th:only-of-type {\n",
       "        vertical-align: middle;\n",
       "    }\n",
       "\n",
       "    .dataframe tbody tr th {\n",
       "        vertical-align: top;\n",
       "    }\n",
       "\n",
       "    .dataframe thead th {\n",
       "        text-align: right;\n",
       "    }\n",
       "</style>\n",
       "<table border=\"1\" class=\"dataframe\">\n",
       "  <thead>\n",
       "    <tr style=\"text-align: right;\">\n",
       "      <th></th>\n",
       "      <th>Unnamed: 0</th>\n",
       "      <th>brand</th>\n",
       "      <th>mileage</th>\n",
       "      <th>deposit</th>\n",
       "      <th>number_of_miles</th>\n",
       "      <th>first_registration</th>\n",
       "      <th>duration</th>\n",
       "      <th>monthly_fee</th>\n",
       "      <th>horsepower</th>\n",
       "      <th>kilowatts</th>\n",
       "      <th>fuel_type</th>\n",
       "      <th>emissions</th>\n",
       "      <th>consumption</th>\n",
       "    </tr>\n",
       "  </thead>\n",
       "  <tbody>\n",
       "    <tr>\n",
       "      <th>0</th>\n",
       "      <td>0</td>\n",
       "      <td>Ford</td>\n",
       "      <td>10000</td>\n",
       "      <td>0.00</td>\n",
       "      <td>0</td>\n",
       "      <td>0</td>\n",
       "      <td>48</td>\n",
       "      <td>239.00</td>\n",
       "      <td>125</td>\n",
       "      <td>92</td>\n",
       "      <td>Benzin</td>\n",
       "      <td>97</td>\n",
       "      <td>4.3</td>\n",
       "    </tr>\n",
       "    <tr>\n",
       "      <th>1</th>\n",
       "      <td>1</td>\n",
       "      <td>Nissan</td>\n",
       "      <td>10000</td>\n",
       "      <td>0.00</td>\n",
       "      <td>0</td>\n",
       "      <td>0</td>\n",
       "      <td>48</td>\n",
       "      <td>379.00</td>\n",
       "      <td>158</td>\n",
       "      <td>116</td>\n",
       "      <td>Benzin</td>\n",
       "      <td>125</td>\n",
       "      <td>5.5</td>\n",
       "    </tr>\n",
       "    <tr>\n",
       "      <th>2</th>\n",
       "      <td>2</td>\n",
       "      <td>Ford</td>\n",
       "      <td>10000</td>\n",
       "      <td>0.00</td>\n",
       "      <td>0</td>\n",
       "      <td>0</td>\n",
       "      <td>48</td>\n",
       "      <td>319.00</td>\n",
       "      <td>155</td>\n",
       "      <td>114</td>\n",
       "      <td>Benzin</td>\n",
       "      <td>119</td>\n",
       "      <td>5.2</td>\n",
       "    </tr>\n",
       "    <tr>\n",
       "      <th>3</th>\n",
       "      <td>3</td>\n",
       "      <td>Cupra</td>\n",
       "      <td>10000</td>\n",
       "      <td>0.00</td>\n",
       "      <td>0</td>\n",
       "      <td>0</td>\n",
       "      <td>48</td>\n",
       "      <td>415.00</td>\n",
       "      <td>190</td>\n",
       "      <td>140</td>\n",
       "      <td>Benzin</td>\n",
       "      <td>157</td>\n",
       "      <td>6.9</td>\n",
       "    </tr>\n",
       "    <tr>\n",
       "      <th>4</th>\n",
       "      <td>4</td>\n",
       "      <td>Volkswagen Golf</td>\n",
       "      <td>10000</td>\n",
       "      <td>0.00</td>\n",
       "      <td>0</td>\n",
       "      <td>0</td>\n",
       "      <td>48</td>\n",
       "      <td>409.00</td>\n",
       "      <td>245</td>\n",
       "      <td>180</td>\n",
       "      <td>Benzin</td>\n",
       "      <td>149</td>\n",
       "      <td>6.5</td>\n",
       "    </tr>\n",
       "  </tbody>\n",
       "</table>\n",
       "</div>"
      ],
      "text/plain": [
       "   Unnamed: 0            brand mileage deposit number_of_miles  \\\n",
       "0           0             Ford   10000    0.00               0   \n",
       "1           1           Nissan   10000    0.00               0   \n",
       "2           2             Ford   10000    0.00               0   \n",
       "3           3            Cupra   10000    0.00               0   \n",
       "4           4  Volkswagen Golf   10000    0.00               0   \n",
       "\n",
       "   first_registration duration monthly_fee horsepower kilowatts fuel_type  \\\n",
       "0                   0       48      239.00        125        92    Benzin   \n",
       "1                   0       48      379.00        158       116    Benzin   \n",
       "2                   0       48      319.00        155       114    Benzin   \n",
       "3                   0       48      415.00        190       140    Benzin   \n",
       "4                   0       48      409.00        245       180    Benzin   \n",
       "\n",
       "  emissions consumption  \n",
       "0        97         4.3  \n",
       "1       125         5.5  \n",
       "2       119         5.2  \n",
       "3       157         6.9  \n",
       "4       149         6.5  "
      ]
     },
     "execution_count": 119,
     "metadata": {},
     "output_type": "execute_result"
    }
   ],
   "source": [
    "from datetime import datetime\n",
    "from dateutil import relativedelta\n",
    "\n",
    "#------------------------------------------------------------------------------------------------------------------------------------\n",
    "# \n",
    "# For column \"first_registration\"\n",
    "\n",
    "today = \"/\".join([str(datetime.now().month), str(datetime.now().year)])\n",
    "\n",
    "def calculateAge(date):\n",
    "    if date == \"Neuwagen\":\n",
    "        return 0\n",
    "    else:\n",
    "        delta = relativedelta.relativedelta((datetime.strptime(str(date), \"%m/%Y\")), (datetime.strptime(str(today), \"%m/%Y\")))\n",
    "        delta_months = delta.months * (delta.years * 12)\n",
    "        return delta_months\n",
    "\n",
    "#------------------------------------------------------------------------------------------------------------------------------------\n",
    "# \n",
    "# For column \"consumption\"\n",
    "\n",
    "def getConsumption(consumption):\n",
    "    return str(consumption).split()[0]\n",
    "\n",
    "#------------------------------------------------------------------------------------------------------------------------------------\n",
    "# \n",
    "# For columns in columnsNumeric\n",
    "\n",
    "def replaceComma(text):\n",
    "    if \".\" in str(text): \n",
    "        return str(\"\".join(str(text).split(\".\"))).replace(\",\",\".\")\n",
    "    else:\n",
    "        return str(text).replace(\",\",\".\")\n",
    "\n",
    "def removeLetters(text):\n",
    "    return \"\".join(c for c in text if c.isdigit() or c == \".\")\n",
    "\n",
    "def removeThousandPoint(text):\n",
    "    return str(text).replace(\".\",\"\")\n",
    "\n",
    "#------------------------------------------------------------------------------------------------------------------------------------\n",
    "# \n",
    "# Application\n",
    "\n",
    "columnsNumeric = [\"mileage\", \"deposit\", \"number_of_miles\", \"duration\", \"monthly_fee\", \"horsepower\", \"kilowatts\", \"emissions\", \"consumption\"]\n",
    "\n",
    "def preProcess(columnsNumeric):\n",
    "\n",
    "    df[\"consumption\"] = df[\"consumption\"].apply(getConsumption)\n",
    "    df[\"first_registration\"] = df[\"first_registration\"].apply(calculateAge)\n",
    "\n",
    "    for i in range(len(columnsNumeric)):\n",
    "        df[columnsNumeric[i]] = df[columnsNumeric[i]].apply(replaceComma)\n",
    "        df[columnsNumeric[i]] = df[columnsNumeric[i]].apply(removeLetters)\n",
    "        #df[columnsNumeric[i]] = df[columnsNumeric[i]].astype(\"float\")\n",
    "\n",
    "    df[\"mileage\"] = df[\"mileage\"].apply(removeThousandPoint)\n",
    "    df[\"number_of_miles\"] = df[\"number_of_miles\"].apply(removeThousandPoint)\n",
    "\n",
    "preProcess(columnsNumeric)\n",
    "\n",
    "df.head()"
   ]
  },
  {
   "attachments": {},
   "cell_type": "markdown",
   "metadata": {},
   "source": []
  },
  {
   "cell_type": "code",
   "execution_count": 133,
   "metadata": {},
   "outputs": [
    {
     "data": {
      "text/plain": [
       "Unnamed: 0            0\n",
       "brand                 0\n",
       "mileage               0\n",
       "deposit               0\n",
       "number_of_miles       0\n",
       "first_registration    0\n",
       "duration              0\n",
       "monthly_fee           0\n",
       "horsepower            0\n",
       "kilowatts             0\n",
       "fuel_type             0\n",
       "emissions             0\n",
       "consumption           0\n",
       "dtype: int64"
      ]
     },
     "execution_count": 133,
     "metadata": {},
     "output_type": "execute_result"
    }
   ],
   "source": [
    "df.isna().sum()"
   ]
  },
  {
   "cell_type": "markdown",
   "metadata": {},
   "source": []
  },
  {
   "cell_type": "code",
   "execution_count": null,
   "metadata": {},
   "outputs": [],
   "source": []
  }
 ],
 "metadata": {
  "kernelspec": {
   "display_name": "Python 3",
   "language": "python",
   "name": "python3"
  },
  "language_info": {
   "codemirror_mode": {
    "name": "ipython",
    "version": 3
   },
   "file_extension": ".py",
   "mimetype": "text/x-python",
   "name": "python",
   "nbconvert_exporter": "python",
   "pygments_lexer": "ipython3",
   "version": "3.10.9"
  },
  "orig_nbformat": 4,
  "vscode": {
   "interpreter": {
    "hash": "b0fa6594d8f4cbf19f97940f81e996739fb7646882a419484c72d19e05852a7e"
   }
  }
 },
 "nbformat": 4,
 "nbformat_minor": 2
}
